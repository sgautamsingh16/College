{
  "nbformat": 4,
  "nbformat_minor": 0,
  "metadata": {
    "colab": {
      "provenance": []
    },
    "kernelspec": {
      "name": "python3",
      "display_name": "Python 3"
    },
    "language_info": {
      "name": "python"
    }
  },
  "cells": [
    {
      "cell_type": "code",
      "execution_count": null,
      "metadata": {
        "id": "AqNdK6k92eOg"
      },
      "outputs": [],
      "source": [
        "import numpy as np\n",
        "import pandas as pd"
      ]
    },
    {
      "cell_type": "code",
      "source": [
        "from google.colab import drive\n",
        "drive.mount('/content/drive')"
      ],
      "metadata": {
        "id": "DQ2zx2TH-6_n"
      },
      "execution_count": null,
      "outputs": []
    },
    {
      "cell_type": "code",
      "source": [
        "states = [\"Sleep\", \"Run\", \"Ice Cream\"]\n",
        "transitionName = [[\"SS\",\"SR\",\"SI\"],[\"RS\",\"RR\",\"RI\"],[\"IS\",\"IR\",\"II\"]]\n",
        "transitionMatrix = [[0.2,0.6,0.2],[0.1,0.6,0.3],[0.2,0.7,0.1]]"
      ],
      "metadata": {
        "id": "Py5oYRww2mH_"
      },
      "execution_count": null,
      "outputs": []
    },
    {
      "cell_type": "code",
      "source": [
        "from re import T\n",
        "def activity_forecast(days):\n",
        "  activityToday = \"Sleep\"\n",
        "  activityList = [activityToday]\n",
        "  i = 0\n",
        "  prob = 1\n",
        "  while i != days:\n",
        "    if activityToday == \"Sleep\":\n",
        "      change = np.random.choice(transitionName[0], replace=True, p=transitionMatrix[0])\n",
        "      if change == \"SS\":\n",
        "        prob *= 0.2\n",
        "        activityList.append(\"Sleep\")\n",
        "        pass\n",
        "      elif change == \"SR\":\n",
        "        prob *= 0.6\n",
        "        activityToday == \"Run\"\n",
        "        activityList.append(\"Run\")\n",
        "        pass\n",
        "      else:\n",
        "        prob *= 0.2\n",
        "        activityToday == \"Ice Cream\"\n",
        "        activityList.append(\"Ice Cream\")\n",
        "    elif activityToday == \"Run\":\n",
        "      change = np.random.choice(transitionName[1],replace=True,p=transitionMatrix[1])\n",
        "      if change == \"RR\":\n",
        "        prob = prob * 0.5\n",
        "        activityList.append(\"Run\")\n",
        "        pass\n",
        "      elif change == \"RS\":\n",
        "        prob = prob * 0.2\n",
        "        activityToday = \"Sleep\"\n",
        "        activityList.append(\"Sleep\")\n",
        "      else:\n",
        "        prob = prob * 0.3\n",
        "        activityToday = \"Icecream\"\n",
        "        activityList.append(\"Icecream\")\n",
        "    elif activityToday == \"Icecream\":\n",
        "      change = np.random.choice(transitionName[2],replace=True,p=transitionMatrix[2])\n",
        "      if change == \"II\":\n",
        "        prob = prob * 0.1\n",
        "        activityList.append(\"Icecream\")\n",
        "        pass\n",
        "      elif change == \"IS\":\n",
        "        prob = prob * 0.2\n",
        "        activityToday = \"Sleep\"\n",
        "        activityList.append(\"Sleep\")\n",
        "      else:\n",
        "        prob = prob * 0.7\n",
        "        activityToday = \"Run\"\n",
        "        activityList.append(\"Run\")\n",
        "    print(activityToday)\n",
        "    i += 1\n",
        "  print(\"Possible States: \" + str(activityList))\n",
        "  print(\"End state after: \" + str(days) + \" days: \" + activityToday)\n",
        "  print(\"Probability of the possible sequence of states: \" + str(prob))"
      ],
      "metadata": {
        "id": "QOOG-Emc25vf"
      },
      "execution_count": null,
      "outputs": []
    },
    {
      "cell_type": "code",
      "source": [
        "activity_forecast(10)"
      ],
      "metadata": {
        "colab": {
          "base_uri": "https://localhost:8080/"
        },
        "id": "GsQyljGb5Vza",
        "outputId": "370b3661-8eb9-4ca9-9f08-a60eb4410fef"
      },
      "execution_count": null,
      "outputs": [
        {
          "output_type": "stream",
          "name": "stdout",
          "text": [
            "Sleep\n",
            "Sleep\n",
            "Sleep\n",
            "Sleep\n",
            "Sleep\n",
            "Sleep\n",
            "Sleep\n",
            "Sleep\n",
            "Sleep\n",
            "Sleep\n",
            "Possible States: ['Sleep', 'Sleep', 'Run', 'Run', 'Run', 'Sleep', 'Run', 'Sleep', 'Run', 'Sleep', 'Ice Cream']\n",
            "End state after: 10 days: Sleep\n",
            "Probability of the possible sequence of states: 2.48832e-05\n"
          ]
        }
      ]
    },
    {
      "cell_type": "code",
      "source": [],
      "metadata": {
        "id": "tHzqWZth5YhL"
      },
      "execution_count": null,
      "outputs": []
    }
  ]
}